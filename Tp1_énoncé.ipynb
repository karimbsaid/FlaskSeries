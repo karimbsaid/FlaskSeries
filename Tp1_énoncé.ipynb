{
  "cells": [
    {
      "cell_type": "markdown",
      "metadata": {
        "id": "view-in-github",
        "colab_type": "text"
      },
      "source": [
        "<a href=\"https://colab.research.google.com/github/karimbsaid/FlaskSeries/blob/master/Tp1_%C3%A9nonc%C3%A9.ipynb\" target=\"_parent\"><img src=\"https://colab.research.google.com/assets/colab-badge.svg\" alt=\"Open In Colab\"/></a>"
      ]
    },
    {
      "cell_type": "markdown",
      "metadata": {
        "id": "Vy4p5c53uhxi"
      },
      "source": [
        "# TD 1: Environnement de programmation et premiers pas avec Python"
      ]
    },
    {
      "cell_type": "markdown",
      "metadata": {
        "id": "VRRvrIlsuhxk"
      },
      "source": [
        "---\n",
        "## 2.Utilisation du notebook Python\n",
        "\n",
        "Dans un premier temps, nous allons voir comment utiliser le notebook. Le notebook permet d'écrire du code que l'on peut évaluer au fur et à mesure. Plus tard, nous programmerons dans un fichier texte, en utilisant l'éditeur VisualStudioCode (VSCode dans la suite) et l'environnement qu'il fournit pour écrire des programmes en Python.\n",
        "\n",
        "Un notebook contient des *cellules* qui sont de deux sortes: il y a des cellules de texte écrites dans un langage de mise en forme de texte appelé *Markdown*, et les cellules de code que vous allez remplir. Les cellules de code sont sur fond gris et un triangle gris apparait sur la gauche de la cellule lorsque votre souris la survole.\n",
        "\n",
        "1. Dans la cellule de code suivante, tapez `1 + 1` puis évaluez la cellule en cliquant sur le triangle gris situé à gauche de la cellule.\n",
        "\n",
        "\n"
      ]
    },
    {
      "cell_type": "code",
      "execution_count": 2,
      "metadata": {
        "id": "3EtGx16muhxk",
        "colab": {
          "base_uri": "https://localhost:8080/"
        },
        "outputId": "6b94e824-41ca-4b86-bbfe-616054538819"
      },
      "outputs": [
        {
          "output_type": "execute_result",
          "data": {
            "text/plain": [
              "2"
            ]
          },
          "metadata": {},
          "execution_count": 2
        }
      ],
      "source": [
        "1+1"
      ]
    },
    {
      "cell_type": "markdown",
      "metadata": {
        "id": "mhMmmSVLuhxl"
      },
      "source": [
        "2. Cliquez de nouveau sur cette cellule et appuyez sur les touches `SHIFT + ENTREE` du clavier.\n",
        "\n",
        "**Note**: Cela évalue également la cellule de code. Remarquez le numéro qui s'affiche dans les crochets à gauche de la cellule de code : c'est *l'ordre d'évaluation* de la cellule.\n",
        "\n",
        "3. Dans la cellule suivante, affectez le résultat de l'expression `1 + 1` à une variable notée `a`. Bien entendu, évaluez la cellule (on ne le rappellera pas systématiquement)."
      ]
    },
    {
      "cell_type": "code",
      "source": [
        "a=1+1"
      ],
      "metadata": {
        "id": "jGuhtwQLzTUa"
      },
      "execution_count": 3,
      "outputs": []
    },
    {
      "cell_type": "code",
      "execution_count": 4,
      "metadata": {
        "id": "P4-LTdBNuhxl",
        "colab": {
          "base_uri": "https://localhost:8080/"
        },
        "outputId": "9285fbc8-9e29-45d8-ca0b-f12e78d38d97"
      },
      "outputs": [
        {
          "output_type": "execute_result",
          "data": {
            "text/plain": [
              "2"
            ]
          },
          "metadata": {},
          "execution_count": 4
        }
      ],
      "source": [
        "a"
      ]
    },
    {
      "cell_type": "markdown",
      "metadata": {
        "id": "SbbOzhhHuhxl"
      },
      "source": [
        "4. Remarquez que l'évaluation de cette cellule ne génère aucun *texte  en sortie*. Pour connaître la valeur de la variable `a`, tapez le nom de la variable dans la cellule suivante."
      ]
    },
    {
      "cell_type": "code",
      "execution_count": 5,
      "metadata": {
        "id": "9DFZn0jSuhxl",
        "colab": {
          "base_uri": "https://localhost:8080/"
        },
        "outputId": "99f4b93c-3453-4f84-e69d-f25874b2e4d0"
      },
      "outputs": [
        {
          "output_type": "execute_result",
          "data": {
            "text/plain": [
              "2"
            ]
          },
          "metadata": {},
          "execution_count": 5
        }
      ],
      "source": [
        "a"
      ]
    },
    {
      "cell_type": "markdown",
      "metadata": {
        "id": "vtL5uGg8uhxl"
      },
      "source": [
        "5. Testez maintenant l'expression `print(a)`."
      ]
    },
    {
      "cell_type": "code",
      "execution_count": 6,
      "metadata": {
        "tags": [],
        "id": "Tl4i76Qbuhxl",
        "colab": {
          "base_uri": "https://localhost:8080/"
        },
        "outputId": "5d983a4d-6620-491f-b461-eab5657829b3"
      },
      "outputs": [
        {
          "output_type": "stream",
          "name": "stdout",
          "text": [
            "2\n"
          ]
        }
      ],
      "source": [
        "print(a)"
      ]
    },
    {
      "cell_type": "markdown",
      "metadata": {
        "id": "p18B95Oruhxl"
      },
      "source": [
        "Le résultat est identique. La première méthode fonctionne dans le notebook, mais pas dans un programme Python. C'est pourquoi il vaut mieux utiliser la deuxième méthode qui repose sur l'utilisation de la *fonction native* `print()`. L'ensemble de ces fonctions est [disponible ici](https://docs.python.org/fr/3.5/library/functions.html).\n",
        "\n",
        "6. Augmentez de 1 la valeur de `a`. L'expression doit donner le bon résultat quelle que soit la valeur de la variable."
      ]
    },
    {
      "cell_type": "code",
      "execution_count": 8,
      "metadata": {
        "id": "omSiMhYWuhxl"
      },
      "outputs": [],
      "source": [
        "a=a+1"
      ]
    },
    {
      "cell_type": "markdown",
      "metadata": {
        "id": "UQ55xm6Suhxl"
      },
      "source": [
        "Et vérifiez en affichant la valeur de `a`."
      ]
    },
    {
      "cell_type": "code",
      "execution_count": 9,
      "metadata": {
        "tags": [],
        "id": "723854PBuhxl",
        "colab": {
          "base_uri": "https://localhost:8080/"
        },
        "outputId": "8bedeaad-3ff0-4694-8135-f9c4151ac9f8"
      },
      "outputs": [
        {
          "output_type": "execute_result",
          "data": {
            "text/plain": [
              "3"
            ]
          },
          "metadata": {},
          "execution_count": 9
        }
      ],
      "source": [
        "a"
      ]
    },
    {
      "cell_type": "markdown",
      "metadata": {
        "id": "VvehgxC2uhxl"
      },
      "source": [
        "Dans la cellule suivante, affectez la valeur 5 à la variable `a` et la valeur 2 à la variable `b`, puis afficher les 2 valeurs avec l'expression `print(a, b)`.\n"
      ]
    },
    {
      "cell_type": "code",
      "execution_count": 10,
      "metadata": {
        "tags": [],
        "id": "XJNlyzUbuhxm",
        "colab": {
          "base_uri": "https://localhost:8080/"
        },
        "outputId": "591ce446-42b2-4504-c387-bc3b4d2fa7e0"
      },
      "outputs": [
        {
          "output_type": "stream",
          "name": "stdout",
          "text": [
            "a: 5\n",
            "b: 2\n"
          ]
        }
      ],
      "source": [
        "a=5\n",
        "b=2\n",
        "print(\"a:\",a)\n",
        "print(\"b:\",b)"
      ]
    },
    {
      "cell_type": "markdown",
      "metadata": {
        "id": "G-nMQvjyuhxm"
      },
      "source": [
        "15. Ecrivez le code qui permet d'échanger la valeur des variables `a` et `b`. Puis affichez leurs valeurs."
      ]
    },
    {
      "cell_type": "code",
      "execution_count": null,
      "metadata": {
        "tags": [],
        "id": "oOyBtHgwuhxm"
      },
      "outputs": [],
      "source": [
        "a,b=b,a"
      ]
    },
    {
      "cell_type": "markdown",
      "metadata": {
        "id": "EdmE-bSnuhxm"
      },
      "source": [
        "16. Pour enrichir l'affichage, recopiez l'expression `print(\"a vaut\", a, \"et b vaut\", b)`."
      ]
    },
    {
      "cell_type": "code",
      "execution_count": null,
      "metadata": {
        "tags": [],
        "id": "mf_6vFoGuhxm"
      },
      "outputs": [],
      "source": [
        "print(\"a vaut\", a, \"et b vaut\", b)"
      ]
    },
    {
      "cell_type": "markdown",
      "metadata": {
        "id": "1dfZCmbGuhxm"
      },
      "source": [
        "17.  Recopiez l'affectation suivante `a = \"hello world\"`, puis affichez la valeur de `a`."
      ]
    },
    {
      "cell_type": "code",
      "execution_count": null,
      "metadata": {
        "tags": [],
        "id": "f4mDKnsDuhxm"
      },
      "outputs": [],
      "source": [
        "a = \"hello world\""
      ]
    },
    {
      "cell_type": "markdown",
      "metadata": {
        "id": "3H_YjNfjuhxm"
      },
      "source": [
        "**Note**: la variable `a` contenait un entier, et maintenant une chaîne de caractères. En Python les variables ont un *type dynamique* contrairement au type statique où le type des variables est défini une fois pour toutes. De plus ce typage est *implicite*, c'est-à-dire qu'il est déterminé par les objets auxquels les variables font référence sans avoir besoin de l'écrire explicitement.\n",
        "\n",
        "18. Afficher de nouveau la valeur de `a` sans utiliser la fonction `print`. Que constatez-vous?\n",
        "\n",
        "19. Avant de passer à la suite, sauvegardez votre notebook."
      ]
    },
    {
      "cell_type": "markdown",
      "metadata": {
        "id": "QL1z97Q2uhxm"
      },
      "source": [
        "\n",
        "-------------------\n",
        "## 3.Types de données\n",
        "En Python, toute variable ou expression possède un *type* qui définit, entre autres, les opérations que l'on peut lui  appliquer. Parmi les types natifs on peut citer les nombres entiers, les nombres flottants, les chaînes de caractères (string en anglais) et les booléens (Vrai ou Faux).\n",
        "\n",
        "\n",
        "1. Prédisez le type de chacune des expressions suivantes. Vérifiez le à l'aide de la fonction `type()`:\n",
        "\n",
        "* `5`\n",
        "* `5.0`\n",
        "* `\"5\"`\n",
        "* `-5`\n",
        "* `5 / 2`\n",
        "* `5 // 2`\n",
        "* ` 5 == 2  `\n",
        "* `5 = 2`"
      ]
    },
    {
      "cell_type": "code",
      "execution_count": 14,
      "metadata": {
        "id": "s0Dx_oghuhxm",
        "colab": {
          "base_uri": "https://localhost:8080/"
        },
        "outputId": "b5c1efe5-0f88-44f0-89fd-6a06cb8d9e93"
      },
      "outputs": [
        {
          "output_type": "stream",
          "name": "stdout",
          "text": [
            "<class 'int'>\n",
            "<class 'float'>\n",
            "<class 'str'>\n",
            "<class 'int'>\n",
            "<class 'float'>\n",
            "<class 'int'>\n",
            "<class 'bool'>\n"
          ]
        }
      ],
      "source": [
        "a=5\n",
        "print(type(a))\n",
        "a=5.0\n",
        "print(type(a))\n",
        "a=\"5\"\n",
        "print(type(a))\n",
        "a=-5\n",
        "print(type(a))\n",
        "a=5/2\n",
        "print(type(a))\n",
        "a=5//2\n",
        "print(type(a))\n",
        "a=5==2\n",
        "print(type(a))\n"
      ]
    },
    {
      "cell_type": "markdown",
      "metadata": {
        "id": "mMJI2c0iuhxm"
      },
      "source": [
        "Ce sont les types de base du langage Python que nous allons étudier dans la suite. Notez que les nombres flottants s'écrivent avec un point et non avec une virgule.\n",
        "\n",
        "2. Faites la même chose avec les expressions suivantes:\n",
        "\n",
        "* `(5, 2)`\n",
        "* `[5, 2]`\n",
        "* `{5, 2}`\n"
      ]
    },
    {
      "cell_type": "code",
      "execution_count": 15,
      "metadata": {
        "id": "kfPyGjs1uhxn",
        "colab": {
          "base_uri": "https://localhost:8080/"
        },
        "outputId": "d193d7e7-58c1-40d8-ebb4-e74e103e1650"
      },
      "outputs": [
        {
          "output_type": "stream",
          "name": "stdout",
          "text": [
            "<class 'tuple'>\n",
            "<class 'list'>\n",
            "<class 'set'>\n"
          ]
        }
      ],
      "source": [
        "a=(5, 2)\n",
        "print(type(a))\n",
        "a=[5, 2]\n",
        "print(type(a))\n",
        "a={5, 2}\n",
        "print(type(a))"
      ]
    },
    {
      "cell_type": "markdown",
      "metadata": {
        "id": "FKsMpBYvuhxn"
      },
      "source": [
        "Ce sont des types avancés, qui permettent de construire des structures de données plus complexes, que nous apprendrons à manipuler plus tard. Pouvez-vous trouver une expression ayant un autre type?  Vous pouvez consulter la [documentation Python sur les types](https://docs.python.org/fr/3/library/stdtypes.html).\n",
        "\n",
        "3. Maintenant, affectez une valeur à une variable `x`, et écrivez le code qui affiche, par exemple, `le type de x est <class 'int'>` si jamais la valeur stockée dans `x` est un entier.\n"
      ]
    },
    {
      "cell_type": "code",
      "execution_count": null,
      "metadata": {
        "tags": [],
        "id": "-qRanZfuuhxn"
      },
      "outputs": [],
      "source": [
        "x=5\n",
        "print('le type de x est ',type(x))"
      ]
    },
    {
      "cell_type": "markdown",
      "metadata": {
        "id": "7b7ogRaQuhxn"
      },
      "source": [
        "\n",
        "### 3.1 Type numérique entier\n",
        "\n",
        "1. Affectez une valeur entière à une variable `v`.\n"
      ]
    },
    {
      "cell_type": "code",
      "execution_count": 16,
      "metadata": {
        "id": "VdzsdsUWuhxn"
      },
      "outputs": [],
      "source": [
        "v = 149\n"
      ]
    },
    {
      "cell_type": "markdown",
      "metadata": {
        "id": "8AjF6koouhxn"
      },
      "source": [
        "2. Ecrivez le résultat de la division entière de `v` par 11. Par exemple, si `v` vaut 149, le résultat affiché doit être de la forme:\n",
        "\n",
        "`149 = 13 x 11 + 6`"
      ]
    },
    {
      "cell_type": "code",
      "execution_count": 17,
      "metadata": {
        "tags": [],
        "id": "flhqY7C4uhxn",
        "colab": {
          "base_uri": "https://localhost:8080/"
        },
        "outputId": "09a834f9-3d5e-4686-a15a-003941294eff"
      },
      "outputs": [
        {
          "output_type": "stream",
          "name": "stdout",
          "text": [
            "149 = 13 x 11 + 6\n"
          ]
        }
      ],
      "source": [
        "resultat = v // 11\n",
        "reste = v % 11\n",
        "print(f\"{v} = {resultat} x 11 + {reste}\")"
      ]
    },
    {
      "cell_type": "markdown",
      "metadata": {
        "id": "dEcIhGehuhxn"
      },
      "source": [
        "3. Prédisez le résultat des expressions suivantes, puis évaluer le code:\n",
        "* `3 * (10 / 3)`\n",
        "* `3 * (10 // 3)`\n",
        "* `(3 * 10) // 3`"
      ]
    },
    {
      "cell_type": "code",
      "execution_count": 18,
      "metadata": {
        "id": "_RdI6jGcuhxn",
        "colab": {
          "base_uri": "https://localhost:8080/"
        },
        "outputId": "b10365c3-d9fb-4941-9787-a69a66c1ce3d"
      },
      "outputs": [
        {
          "output_type": "stream",
          "name": "stdout",
          "text": [
            "10.0\n",
            "9\n",
            "10\n"
          ]
        }
      ],
      "source": [
        "print(3 * (10 / 3))\n",
        "print(3 * (10 // 3))\n",
        "print((3 * 10) // 3)"
      ]
    },
    {
      "cell_type": "markdown",
      "metadata": {
        "id": "HRqtGbyxuhxn"
      },
      "source": [
        "5. Le résultat change-t'il si on retire les parenthèses des expressions précédentes?"
      ]
    },
    {
      "cell_type": "markdown",
      "source": [
        "réponse: **oui**"
      ],
      "metadata": {
        "id": "zYcvjZ4AJyvl"
      }
    },
    {
      "cell_type": "markdown",
      "metadata": {
        "id": "Pvfv5j5yuhxn"
      },
      "source": [
        "\n",
        "6. Affectez un nombre entier à une variable, puis écrivez une expression qui affiche `True` si la variable est paire et `False` sinon."
      ]
    },
    {
      "cell_type": "code",
      "execution_count": 19,
      "metadata": {
        "tags": [],
        "id": "BJx280okuhxn",
        "colab": {
          "base_uri": "https://localhost:8080/"
        },
        "outputId": "119cc673-c636-4cfd-849d-1c2889fe9d4c"
      },
      "outputs": [
        {
          "output_type": "stream",
          "name": "stdout",
          "text": [
            "False\n"
          ]
        }
      ],
      "source": [
        "x=5\n",
        "paire = x % 2 == 0\n",
        "print(paire)\n",
        "#autre solution\n",
        "if (x % 2 ==0):\n",
        "  print(True)\n",
        "else:\n",
        "  print(False)\n"
      ]
    },
    {
      "cell_type": "markdown",
      "metadata": {
        "id": "_YnlskaYuhxo"
      },
      "source": [
        "7. L'opérateur puissance s'écrit `**`. Par exemple, 2 à la puissance 10 s'écrit `2 ** 10`. Affichez la valeur de 2 puissance 256. Combien de chiffres a ce nombre (en évitant de compter sur l'écran)?"
      ]
    },
    {
      "cell_type": "code",
      "execution_count": 20,
      "metadata": {
        "tags": [],
        "id": "4arMDw8duhxo",
        "colab": {
          "base_uri": "https://localhost:8080/"
        },
        "outputId": "20b0728d-e14a-40f5-d8a0-f723dea434b6"
      },
      "outputs": [
        {
          "output_type": "stream",
          "name": "stdout",
          "text": [
            "1024\n"
          ]
        }
      ],
      "source": [
        "print(2**10)"
      ]
    },
    {
      "cell_type": "markdown",
      "metadata": {
        "id": "9sEeN7MPuhxo"
      },
      "source": [
        "Ecrire l'expression qui donne le dernier chiffre du nombre référencé par la variable `a`."
      ]
    },
    {
      "cell_type": "code",
      "execution_count": 24,
      "metadata": {
        "tags": [],
        "id": "BF5tuqOzuhxo",
        "colab": {
          "base_uri": "https://localhost:8080/"
        },
        "outputId": "373ff88e-17dd-45af-d985-6c0d03b19950"
      },
      "outputs": [
        {
          "output_type": "stream",
          "name": "stdout",
          "text": [
            "5\n"
          ]
        }
      ],
      "source": [
        "a=25\n",
        "dernier_chiffre = a % 10\n",
        "print(dernier_chiffre)"
      ]
    },
    {
      "cell_type": "markdown",
      "metadata": {
        "id": "XZIGzFLfuhxo"
      },
      "source": [
        "Ecrire l'expression qui donne l'avant-dernier chiffre du nombre référencé par la variable `a`."
      ]
    },
    {
      "cell_type": "code",
      "execution_count": 25,
      "metadata": {
        "tags": [],
        "id": "wzEhPKpyuhxo",
        "colab": {
          "base_uri": "https://localhost:8080/"
        },
        "outputId": "0eb7ab78-a3d2-4ce2-dbb3-9a6971095174"
      },
      "outputs": [
        {
          "output_type": "stream",
          "name": "stdout",
          "text": [
            "2\n"
          ]
        }
      ],
      "source": [
        "avant_dernier_chiffre = (a // 10) % 10\n",
        "print(avant_dernier_chiffre)"
      ]
    },
    {
      "cell_type": "markdown",
      "metadata": {
        "id": "VSPHsCiEuhxo"
      },
      "source": [
        "\n",
        "### 3.2 Nombres flottants\n",
        "\n",
        "1. L'expression `0.2 + 0.4` est-elle égale, supérieure ou inférieure à `0.6`?"
      ]
    },
    {
      "cell_type": "code",
      "execution_count": 28,
      "metadata": {
        "tags": [],
        "id": "s10xNJYfuhxo",
        "colab": {
          "base_uri": "https://localhost:8080/"
        },
        "outputId": "ccb5cef9-c952-4d7d-f3d1-eb0f424dd767"
      },
      "outputs": [
        {
          "output_type": "stream",
          "name": "stdout",
          "text": [
            "False\n",
            "non\n"
          ]
        }
      ],
      "source": [
        "a=0.2+0.4 == 0.6\n",
        "print(a)\n"
      ]
    },
    {
      "cell_type": "markdown",
      "metadata": {
        "id": "_jcChe7cuhxo"
      },
      "source": [
        "2. Affectez la valeur 0.5 à une variable `x`. Multipliez `x` par $2^{30}$ puis convertissez le résultat obtenu en valeur entière (utilisez la fonction `int()`) puis divisez le résultat par $2^{30}$ (faire une division flottante)."
      ]
    },
    {
      "cell_type": "code",
      "execution_count": 30,
      "metadata": {
        "tags": [],
        "id": "fcCfUWNFuhxp",
        "colab": {
          "base_uri": "https://localhost:8080/"
        },
        "outputId": "3de0c7fb-12f8-4ced-ee82-ab1470c86e3d"
      },
      "outputs": [
        {
          "output_type": "stream",
          "name": "stdout",
          "text": [
            "0.5\n",
            "0.1\n"
          ]
        }
      ],
      "source": [
        "x = 0.5\n",
        "resultat_multiplication = x * 230\n",
        "resultat_entier = int(resultat_multiplication)\n",
        "resultat_final = resultat_entier / 230\n",
        "print(resultat_final)\n",
        "x=0.1\n",
        "resultat_multiplication = x * 230\n",
        "resultat_entier = int(resultat_multiplication)\n",
        "resultat_final = resultat_entier / 230\n",
        "print(resultat_final)"
      ]
    },
    {
      "cell_type": "markdown",
      "metadata": {
        "id": "admfnMx5uhxp"
      },
      "source": [
        "3. Remplacez la valeur de `x` par 0.1 et refaites le calcul."
      ]
    },
    {
      "cell_type": "markdown",
      "metadata": {
        "id": "5I1Wa-WTuhxp"
      },
      "source": [
        "### 3.3 Chaînes de caractères"
      ]
    },
    {
      "cell_type": "markdown",
      "metadata": {
        "id": "m2BM_ifRuhxp"
      },
      "source": [
        "1. Dans la cellule de code suivante, affichez le résultat de l'expression `a + b`, et de `b + a`"
      ]
    },
    {
      "cell_type": "code",
      "execution_count": 31,
      "metadata": {
        "tags": [],
        "id": "O4rq4rXbuhxp",
        "colab": {
          "base_uri": "https://localhost:8080/"
        },
        "outputId": "2cdbf7c1-8983-463f-9573-c81dc52817f6"
      },
      "outputs": [
        {
          "output_type": "stream",
          "name": "stdout",
          "text": [
            "helloworld\n"
          ]
        }
      ],
      "source": [
        "a = \"hello\"\n",
        "b = 'world'\n",
        "print(a+b)"
      ]
    },
    {
      "cell_type": "markdown",
      "metadata": {
        "id": "T6_FLbx3uhxp"
      },
      "source": [
        "**Notes**: les chaînes de caractères peuvent s'écrire avec des guillemets simples ou doubles (d'autres formes existent). L'opération d'addition de chaînes est appelée *concaténation*.\n",
        "\n",
        "2. Dans la cellule précédente, ajoutez un espace entre `hello` et `world` sans modifier les variables."
      ]
    },
    {
      "cell_type": "code",
      "source": [
        "print(a+\" \"+b)"
      ],
      "metadata": {
        "colab": {
          "base_uri": "https://localhost:8080/"
        },
        "id": "QvHw8tNz60al",
        "outputId": "796fdc50-51db-4587-accc-d69663a40738"
      },
      "execution_count": 32,
      "outputs": [
        {
          "output_type": "stream",
          "name": "stdout",
          "text": [
            "hello world\n"
          ]
        }
      ]
    },
    {
      "cell_type": "markdown",
      "metadata": {
        "id": "V5miNIh2uhxp"
      },
      "source": [
        "3. Avant d'afficher le résultat, prédire ce que valent `a * 3` et `(a + b) * 2`?"
      ]
    },
    {
      "cell_type": "code",
      "execution_count": 33,
      "metadata": {
        "tags": [],
        "id": "hPqsu4nkuhxp",
        "colab": {
          "base_uri": "https://localhost:8080/"
        },
        "outputId": "448fd00c-94e0-4482-8b3e-35e2cabbac17"
      },
      "outputs": [
        {
          "output_type": "stream",
          "name": "stdout",
          "text": [
            "hellohellohello\n",
            "helloworldhelloworld\n"
          ]
        }
      ],
      "source": [
        "print(a*3)\n",
        "print((a+b)*2)"
      ]
    },
    {
      "cell_type": "markdown",
      "metadata": {
        "id": "P3GO5IGXuhxq"
      },
      "source": [
        "4. On peut appliquer des *méthodes* (ce sont des fonctions qui s'appliquent à un certain type d'objets) à une chaîne de caractères. Par exemple tester ce que vaut `a.upper()`."
      ]
    },
    {
      "cell_type": "code",
      "execution_count": 34,
      "metadata": {
        "id": "fOu1AAnNuhxq",
        "colab": {
          "base_uri": "https://localhost:8080/",
          "height": 36
        },
        "outputId": "2b81f653-3c87-4030-9839-86aeef2235a9"
      },
      "outputs": [
        {
          "output_type": "execute_result",
          "data": {
            "text/plain": [
              "'HELLO'"
            ],
            "application/vnd.google.colaboratory.intrinsic+json": {
              "type": "string"
            }
          },
          "metadata": {},
          "execution_count": 34
        }
      ],
      "source": [
        "a.upper()"
      ]
    },
    {
      "cell_type": "markdown",
      "metadata": {
        "id": "OJnAVXFBuhxq"
      },
      "source": [
        "Vous pouvez voir la liste des méthodes associées aux chaînes de caractères (ainsi que sur les autres types natifs) sur [cette page](https://docs.python.org/fr/3/library/stdtypes.html#string-methods).\n",
        "\n",
        "5. La variable `a` a-t'elle été modifiée?"
      ]
    },
    {
      "cell_type": "code",
      "execution_count": 36,
      "metadata": {
        "id": "vnZ4k03xuhxq",
        "colab": {
          "base_uri": "https://localhost:8080/",
          "height": 36
        },
        "outputId": "b21ab3d6-cfc7-46c2-9a22-c8cd5363c7a3"
      },
      "outputs": [
        {
          "output_type": "execute_result",
          "data": {
            "text/plain": [
              "'hello'"
            ],
            "application/vnd.google.colaboratory.intrinsic+json": {
              "type": "string"
            }
          },
          "metadata": {},
          "execution_count": 36
        }
      ],
      "source": [
        "a.capitalize()\n",
        "a.casefold()\n"
      ]
    },
    {
      "cell_type": "markdown",
      "metadata": {
        "id": "fTXdfwfYuhxq"
      },
      "source": [
        "6. Que vaut `a > b`?"
      ]
    },
    {
      "cell_type": "code",
      "execution_count": 37,
      "metadata": {
        "tags": [],
        "id": "uHe-mqXouhxq",
        "colab": {
          "base_uri": "https://localhost:8080/"
        },
        "outputId": "023a1931-b12c-4b96-ccde-93c1c64309d0"
      },
      "outputs": [
        {
          "output_type": "execute_result",
          "data": {
            "text/plain": [
              "False"
            ]
          },
          "metadata": {},
          "execution_count": 37
        }
      ],
      "source": [
        "a>b"
      ]
    },
    {
      "cell_type": "markdown",
      "metadata": {
        "id": "GM-Jv-Yquhxq"
      },
      "source": [
        "7. Quelle est la signification de cette comparaison?"
      ]
    },
    {
      "cell_type": "markdown",
      "source": [
        "**comparant les valeurs ASCII des caractères un par un**"
      ],
      "metadata": {
        "id": "2tA4cen974iO"
      }
    },
    {
      "cell_type": "markdown",
      "metadata": {
        "id": "basMnqHzuhxq"
      },
      "source": [
        "### 3.4 Conversions"
      ]
    },
    {
      "cell_type": "markdown",
      "metadata": {
        "id": "n19gX6npuhxq"
      },
      "source": [
        "1. Dans la cellule de code suivante, devinez ce que vaut `a * 2` avant de l'afficher."
      ]
    },
    {
      "cell_type": "code",
      "execution_count": 38,
      "metadata": {
        "tags": [],
        "id": "zDuiqrJGuhxq",
        "colab": {
          "base_uri": "https://localhost:8080/"
        },
        "outputId": "803a94a3-883d-4db3-b155-32ad0c1ba1e7"
      },
      "outputs": [
        {
          "output_type": "stream",
          "name": "stdout",
          "text": [
            "3232\n"
          ]
        }
      ],
      "source": [
        "a = \"32\"\n",
        "print(a*2)"
      ]
    },
    {
      "cell_type": "markdown",
      "metadata": {
        "id": "PtlS2cXzuhxq"
      },
      "source": [
        "2. Utilisez la fonction de conversion `int()` pour obtenir le résultat de la multiplication de nombres entiers (64 ici)."
      ]
    },
    {
      "cell_type": "code",
      "execution_count": 39,
      "metadata": {
        "tags": [],
        "id": "-mXfL7nquhxr",
        "colab": {
          "base_uri": "https://localhost:8080/"
        },
        "outputId": "0eaf04c1-b255-4a1a-cc17-afcfa3b40fca"
      },
      "outputs": [
        {
          "output_type": "stream",
          "name": "stdout",
          "text": [
            "64\n"
          ]
        }
      ],
      "source": [
        "x = 64\n",
        "print(int(x))"
      ]
    },
    {
      "cell_type": "markdown",
      "metadata": {
        "id": "ZKin4HjPuhxr"
      },
      "source": [
        "3. Ecrivez l'expression `s = input(\"Tape quelquechose au clavier\")` puis affichez `s`. Que se passe-t'il?"
      ]
    },
    {
      "cell_type": "code",
      "execution_count": 40,
      "metadata": {
        "tags": [],
        "id": "0sxN7GK3uhxr",
        "colab": {
          "base_uri": "https://localhost:8080/"
        },
        "outputId": "6e866c4c-f7fe-40c8-8cab-97b44366048e"
      },
      "outputs": [
        {
          "output_type": "stream",
          "name": "stdout",
          "text": [
            "Tape quelquechose au clavierhello \n",
            "hello \n"
          ]
        }
      ],
      "source": [
        "s = input(\"Tape quelquechose au clavier\")\n",
        "print(s)"
      ]
    },
    {
      "cell_type": "markdown",
      "metadata": {
        "id": "oMcv6SX5uhxr"
      },
      "source": [
        "4. Recopiez le code de la cellule précédente. L'utilisateur doit saisir un nombre entier puis vous affichez ce nombre multiplié par 2."
      ]
    },
    {
      "cell_type": "code",
      "execution_count": 44,
      "metadata": {
        "tags": [],
        "id": "OTjUUJR5uhxr",
        "colab": {
          "base_uri": "https://localhost:8080/"
        },
        "outputId": "e4ded3e8-ca8c-42f8-f015-d05dbdb830f2"
      },
      "outputs": [
        {
          "output_type": "stream",
          "name": "stdout",
          "text": [
            "donner un entier : 25\n",
            "resultat de multiplication =  50\n"
          ]
        }
      ],
      "source": [
        "a = input(\"donner un entier : \")\n",
        "print(\"resultat de multiplication = \",int(a)*2)\n"
      ]
    },
    {
      "cell_type": "markdown",
      "metadata": {
        "id": "Q00AaO7Juhxr"
      },
      "source": [
        "5. ́Ecrivez le code qui demande son âge à l’utilisateur et répond en utilisant sa réponse au milieu d’une phrase, comme par exemple en lui donnant l’âge qu’il aura en 2031 le même jour."
      ]
    },
    {
      "cell_type": "code",
      "execution_count": 46,
      "metadata": {
        "tags": [],
        "id": "2TdcBvfmuhxr",
        "colab": {
          "base_uri": "https://localhost:8080/"
        },
        "outputId": "0cde0032-833e-429e-8392-93c605967de8"
      },
      "outputs": [
        {
          "output_type": "stream",
          "name": "stdout",
          "text": [
            "Quel est votre âge ? 22\n",
            "32\n"
          ]
        }
      ],
      "source": [
        "age = input(\"Quel est votre âge ? \")\n",
        "age_2031 = int(a) + (2031 - 2024)\n",
        "print(age_2031)"
      ]
    },
    {
      "cell_type": "markdown",
      "metadata": {
        "id": "qRAnqgDRuhxr"
      },
      "source": [
        "6. Avant de passer à la suite, sauvegardez votre notebook sur github."
      ]
    },
    {
      "cell_type": "markdown",
      "metadata": {
        "id": "HU4TrSX6uhxr"
      },
      "source": [
        "---\n",
        "## Exercices supplémentaires"
      ]
    },
    {
      "cell_type": "markdown",
      "metadata": {
        "tags": [],
        "id": "UT7G2G3suhxs"
      },
      "source": [
        "1. Parmi les chaînes de caractères suivantes, lesquelles peuvent être des noms de variable?\n",
        "* `f`\n",
        "* `l`\n",
        "* `f2`\n",
        "* `2f`\n",
        "* `totolehero`\n",
        "* `toto_le_hero`\n",
        "* `import`\n",
        "* `toto2-le-retour`\n",
        "\n",
        "Et parmi les noms corrects, lesquels ne sont pas recommandés (voir la [PEP8](https://www.python.org/dev/peps/pep-0008/#naming-conventions))?\n"
      ]
    },
    {
      "cell_type": "markdown",
      "metadata": {
        "id": "brAfq_pxuhxs"
      },
      "source": [
        "2. Demandez à l'utilisateur de rentrer un nombre, puis afficher sa racine carrée en faisant une phrase."
      ]
    },
    {
      "cell_type": "code",
      "execution_count": null,
      "metadata": {
        "tags": [],
        "id": "9DTCmO-duhxs"
      },
      "outputs": [],
      "source": []
    },
    {
      "cell_type": "markdown",
      "metadata": {
        "id": "IGITZkwTuhxs"
      },
      "source": [
        "3. Ecrivez le code qui affiche:\n",
        "* la chaı̂ne ”aaaaaa...” (250 ”a”)\n",
        "* la chaı̂ne ”bbbb....a” (250 ”b” suivis d’un ”a”)\n",
        "* la chaı̂ne ”bbbb....aaabbb...” (250 ”b” suivis d’un ”a” suivi de 100 b)\n",
        "* 50 fois ”bonjour” en allant à la ligne à chaque fois (utilisez ”\\n”)\n"
      ]
    },
    {
      "cell_type": "code",
      "execution_count": null,
      "metadata": {
        "tags": [],
        "id": "SnQ0-Sfruhxs"
      },
      "outputs": [],
      "source": []
    },
    {
      "cell_type": "markdown",
      "metadata": {
        "id": "f3sDARwtuhxs"
      },
      "source": [
        "4. Evaluez chaque expression numérique étape par étape selon la priorité des opérateurs.\n",
        "    * a) 3 + 4 * 6\n",
        "    * b) 3 * 4 / 6 + 6\n",
        "    * c) 2 * 3 / 12 * 8 / 4\n",
        "    * d) 10 * ( 1 + 7 * 3 )\n",
        "    * e) 20 - 2 / 6 + 3\n",
        "    * f) ( 20 - 2 ) / ( 6 + 3 )\n",
        "    * g) 10 + 15 % 2 + 4.3\n",
        "    * h) 3 * 4 / 6 + 6"
      ]
    },
    {
      "cell_type": "code",
      "execution_count": null,
      "metadata": {
        "id": "R5hkXY8Luhxs"
      },
      "outputs": [],
      "source": []
    },
    {
      "cell_type": "markdown",
      "metadata": {
        "id": "GZtkMh32uhxs"
      },
      "source": [
        "5. Saisir, Calculer et Afficher\n",
        "\n",
        "    * (1) Ecrire un code qui permet de faire les tâches suivantes :\n",
        "        * a) Saisir deux variables, a et b, de type entier.\n",
        "        * b) Calculer la somme de ces deux variables.\n",
        "        * c) Affecter le résultat dans la variable « Somme ».\n",
        "        * d) Calculer le quotient de ces deux variables.\n",
        "        * e) Affecter le résultat dans la variable « Quotient ».\n",
        "        * f) Afficher les valeurs des variables « Somme » et « Quotient ». Le message doit être sous la forme suivante «La somme de 3 et 1 est 4 et le quotient de 3 sur 1 est 3 »\n",
        "        \n",
        "    * (2) Quel est le nombre total de variables utilisées pour cet algorithme ?\n",
        "    \n",
        "    * (3) On veut, maintenant, minimiser le nombre de variables utilisées par le code précédent.\n",
        "        * a) Quel est le nombre maximal de variables qu’on peut supprimer ?\n",
        "        * b) Quel est le nombre minimal de variables qu’on peut supprimer ?\n",
        "        \n",
        "    * (4) Ecrire le code correspondant à 3.a.    "
      ]
    },
    {
      "cell_type": "code",
      "execution_count": null,
      "metadata": {
        "id": "oXWgYJeeuhxt"
      },
      "outputs": [],
      "source": []
    },
    {
      "cell_type": "markdown",
      "metadata": {
        "id": "s5TQknyeuhxt"
      },
      "source": [
        "6. Ecrire un code qui permet de calculer le diamètre, le périmètre et la surface d’un cercle. Pour ce faire nous allons procéder comme suit :\n",
        "        * a) Déclarer la variable constante 𝝅 et la variable Ray contenant la valeur 10.\n",
        "        * b) Déclarer trois variables DM, PR et SR.\n",
        "        * c) Affecter respectivement à DM, PR et SR les valeurs du diamètre, du périmètre et de la surface d’un cercle dont le rayon est Ray.\n",
        "        * d) Afficher le message suivant \"Le cercle de rayon AA a pour diamètre BB, pour périmètre CC et pour surface DD\"."
      ]
    },
    {
      "cell_type": "code",
      "execution_count": null,
      "metadata": {
        "id": "9_8KzNq8uhxt"
      },
      "outputs": [],
      "source": []
    }
  ],
  "metadata": {
    "kernelspec": {
      "display_name": "Python 3",
      "language": "python",
      "name": "python3"
    },
    "language_info": {
      "codemirror_mode": {
        "name": "ipython",
        "version": 3
      },
      "file_extension": ".py",
      "mimetype": "text/x-python",
      "name": "python",
      "nbconvert_exporter": "python",
      "pygments_lexer": "ipython3",
      "version": "3.7.6-final"
    },
    "colab": {
      "provenance": [],
      "include_colab_link": true
    }
  },
  "nbformat": 4,
  "nbformat_minor": 0
}